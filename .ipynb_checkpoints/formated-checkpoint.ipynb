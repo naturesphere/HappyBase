{
 "cells": [
  {
   "cell_type": "code",
   "execution_count": 1,
   "metadata": {
    "collapsed": true
   },
   "outputs": [],
   "source": [
    "import happybase"
   ]
  },
  {
   "cell_type": "code",
   "execution_count": 3,
   "metadata": {
    "collapsed": true
   },
   "outputs": [],
   "source": [
    "hbase_host = '192.168.1.254'"
   ]
  },
  {
   "attachments": {},
   "cell_type": "markdown",
   "metadata": {},
   "source": [
    "表格式：手机号码 + 时间戳 +url"
   ]
  },
  {
   "cell_type": "code",
   "execution_count": 34,
   "metadata": {},
   "outputs": [
    {
     "name": "stdout",
     "output_type": "stream",
     "text": [
      "[b'myproject_mytable', b'test']\n",
      "[b'myproject_mytable', b'mytable', b'test']\n",
      "b'13866668888' {b'website:url': b'www.google.com'}\n",
      "{b'website:url': (b'www.google.com', 123456789)}\n",
      "{}\n",
      "{b'website:url': b'www.google.com'}\n",
      "{}\n"
     ]
    }
   ],
   "source": [
    "phone_num = '13866668888'\n",
    "ttmp = 123456789\n",
    "url='www.google.com'\n",
    "\n",
    "pool = happybase.ConnectionPool(size=3,host=hbase_host)\n",
    "tab = 'mytable'\n",
    "with pool.connection() as conn:\n",
    "    print(conn.tables())\n",
    "    conn.create_table(tab,{'website':dict(max_versions=10),})\n",
    "    print(conn.tables())\n",
    "    table=conn.table(tab)\n",
    "#  put value\n",
    "#   rowkey = phone_num, column faminly = website, column = url, value=$url,timpstamp=ttmp\n",
    "    table.put(phone_num,{b'website:url':url},timestamp=ttmp)\n",
    "#   scane table\n",
    "    for k,v in table.scan():\n",
    "        print(k,v)\n",
    "        \n",
    "# retrive data\n",
    "    row = table.row(phone_num,columns=[b'website:url'],include_timestamp=True)\n",
    "    print(row)\n",
    "#   注意timestamp意思是到这个时间戳为止，但不包括它的值\n",
    "    row = table.row(phone_num,columns=[b'website:url'],timestamp=ttmp)\n",
    "    print(row)\n",
    "    row = table.row(phone_num,columns=[b'website:url'],timestamp=ttmp+1)\n",
    "    print(row)\n",
    "    \n",
    "# delete data\n",
    "    table.delete(phone_num)\n",
    "    row = table.row(phone_num,columns=[b'website:url'],include_timestamp=True)\n",
    "    print(row)"
   ]
  },
  {
   "cell_type": "code",
   "execution_count": null,
   "metadata": {
    "collapsed": true
   },
   "outputs": [],
   "source": []
  }
 ],
 "metadata": {
  "kernelspec": {
   "display_name": "Python 3",
   "language": "python",
   "name": "python3"
  },
  "language_info": {
   "codemirror_mode": {
    "name": "ipython",
    "version": 3
   },
   "file_extension": ".py",
   "mimetype": "text/x-python",
   "name": "python",
   "nbconvert_exporter": "python",
   "pygments_lexer": "ipython3",
   "version": "3.6.1"
  }
 },
 "nbformat": 4,
 "nbformat_minor": 2
}
