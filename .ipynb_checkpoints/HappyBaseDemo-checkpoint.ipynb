{
 "cells": [
  {
   "cell_type": "code",
   "execution_count": 97,
   "metadata": {
    "collapsed": true
   },
   "outputs": [],
   "source": [
    "import happybase"
   ]
  },
  {
   "cell_type": "code",
   "execution_count": 243,
   "metadata": {
    "collapsed": true
   },
   "outputs": [],
   "source": [
    "host = '192.168.1.254'"
   ]
  },
  {
   "cell_type": "markdown",
   "metadata": {},
   "source": [
    "建立连接，1分钟之内无交互服务端会自动断开连接"
   ]
  },
  {
   "cell_type": "code",
   "execution_count": 228,
   "metadata": {},
   "outputs": [],
   "source": [
    "conn = happybase.Connection('192.168.1.254')"
   ]
  },
  {
   "cell_type": "markdown",
   "metadata": {},
   "source": [
    "创建表格"
   ]
  },
  {
   "cell_type": "code",
   "execution_count": 135,
   "metadata": {},
   "outputs": [],
   "source": [
    "conn.create_table('mytable',{'cf1':dict(max_versions=10),\n",
    "                            'cf2':dict(max_versions=1,block_cache_enabled=False),\n",
    "                            'cf3':dict(),})"
   ]
  },
  {
   "cell_type": "code",
   "execution_count": 229,
   "metadata": {
    "collapsed": true
   },
   "outputs": [],
   "source": [
    "table=conn.table('mytable')"
   ]
  },
  {
   "cell_type": "markdown",
   "metadata": {},
   "source": [
    "为了防止取同名的表造成名字冲突，可以赋值给table_prefix,生成的表名为prefix_tablename"
   ]
  },
  {
   "cell_type": "code",
   "execution_count": 137,
   "metadata": {
    "collapsed": true
   },
   "outputs": [],
   "source": [
    "conn = happybase.Connection(host,table_prefix='myproject')"
   ]
  },
  {
   "cell_type": "code",
   "execution_count": 139,
   "metadata": {},
   "outputs": [],
   "source": [
    "conn.create_table('mytable',{'cf1':dict(),})"
   ]
  },
  {
   "cell_type": "code",
   "execution_count": 171,
   "metadata": {},
   "outputs": [
    {
     "name": "stdout",
     "output_type": "stream",
     "text": [
      "[b'myproject_mytable', b'mytable', b'test']\n"
     ]
    }
   ],
   "source": [
    "print(conn.tables())"
   ]
  },
  {
   "cell_type": "markdown",
   "metadata": {},
   "source": [
    "向表格添加数据"
   ]
  },
  {
   "cell_type": "code",
   "execution_count": 185,
   "metadata": {},
   "outputs": [],
   "source": [
    "cloth_data = {'cf1:content':u'牛仔裤', 'cf1:price':'299', 'cf1:rating':'98%'}\n",
    "hat_data = {'cf1:content':u'鸭舌帽', 'cf1:price':'88', 'cf1:rating':'99%'}\n",
    "shoe_data = {'cf1:content':u'耐克', 'cf1:price':'988', 'cf1:rating':'100%'}\n",
    "author_data = {'cf2:name':u'xiebing','cf2:date':'2017-03-09'}\n",
    "\n",
    "table.put(row='www.test1.com',data=cloth_data)\n",
    "table.put(row='www.test2.com',data=hat_data)\n",
    "table.put(row='www.test3.com',data=shoe_data)\n",
    "table.put(row='www.test4.com',data=author_data)"
   ]
  },
  {
   "cell_type": "markdown",
   "metadata": {},
   "source": [
    "以批处理的方式向表格添加数据，数据会先缓存在内存中，到了batch_size的阈值在写入hbase,效率更高，而且能夹杂删除操作\n"
   ]
  },
  {
   "cell_type": "code",
   "execution_count": 186,
   "metadata": {},
   "outputs": [],
   "source": [
    "with table.batch(batch_size=10) as bat:\n",
    "    bat.put('www.test5.com',{'cf1:price':'999','cf2:title':'Hello Python','cf2:length':'34','cf3:code':'A43'})\n",
    "    bat.put('www.test6.com',{'cf1:content':u'剃须刀','cf1:price':'168','cf1:rating':'97%'})\n",
    "    bat.put('www.test7.com',{'cf3:function':'print'})\n",
    "    bat.delete('www.test1.com')"
   ]
  },
  {
   "cell_type": "markdown",
   "metadata": {},
   "source": [
    "扫描表格"
   ]
  },
  {
   "cell_type": "code",
   "execution_count": 188,
   "metadata": {},
   "outputs": [
    {
     "name": "stdout",
     "output_type": "stream",
     "text": [
      "b'www.test2.com' {b'cf1:content': b'\\xe9\\xb8\\xad\\xe8\\x88\\x8c\\xe5\\xb8\\xbd', b'cf1:price': b'88', b'cf1:rating': b'99%'}\n",
      "b'www.test3.com' {b'cf1:content': b'\\xe8\\x80\\x90\\xe5\\x85\\x8b', b'cf1:price': b'988', b'cf1:rating': b'100%'}\n",
      "b'www.test4.com' {b'cf2:date': b'2017-03-09', b'cf2:name': b'xiebing'}\n",
      "b'www.test5.com' {b'cf1:price': b'999', b'cf2:length': b'34', b'cf2:title': b'Hello Python', b'cf3:code': b'A43'}\n",
      "b'www.test6.com' {b'cf1:content': b'\\xe5\\x89\\x83\\xe9\\xa1\\xbb\\xe5\\x88\\x80', b'cf1:price': b'168', b'cf1:rating': b'97%'}\n",
      "b'www.test7.com' {b'cf3:function': b'print'}\n"
     ]
    }
   ],
   "source": [
    "for key,value in table.scan():\n",
    "    print(key,value)"
   ]
  },
  {
   "cell_type": "markdown",
   "metadata": {},
   "source": [
    "定义起止位置扫描表格"
   ]
  },
  {
   "cell_type": "code",
   "execution_count": 194,
   "metadata": {},
   "outputs": [
    {
     "name": "stdout",
     "output_type": "stream",
     "text": [
      "b'www.test3.com' {b'cf1:content': b'\\xe8\\x80\\x90\\xe5\\x85\\x8b', b'cf1:price': b'988', b'cf1:rating': b'100%'}\n",
      "b'www.test4.com' {b'cf2:date': b'2017-03-09', b'cf2:name': b'xiebing'}\n",
      "b'www.test5.com' {b'cf1:price': b'999', b'cf2:length': b'34', b'cf2:title': b'Hello Python', b'cf3:code': b'A43'}\n",
      "b'www.test6.com' {b'cf1:content': b'\\xe5\\x89\\x83\\xe9\\xa1\\xbb\\xe5\\x88\\x80', b'cf1:price': b'168', b'cf1:rating': b'97%'}\n",
      "b'www.test7.com' {b'cf3:function': b'print'}\n"
     ]
    }
   ],
   "source": [
    "for key,value in table.scan(row_start='www.test3.com'):\n",
    "    print(key,value)"
   ]
  },
  {
   "cell_type": "code",
   "execution_count": 195,
   "metadata": {},
   "outputs": [
    {
     "name": "stdout",
     "output_type": "stream",
     "text": [
      "b'www.test2.com' {b'cf1:content': b'\\xe9\\xb8\\xad\\xe8\\x88\\x8c\\xe5\\xb8\\xbd', b'cf1:price': b'88', b'cf1:rating': b'99%'}\n",
      "b'www.test3.com' {b'cf1:content': b'\\xe8\\x80\\x90\\xe5\\x85\\x8b', b'cf1:price': b'988', b'cf1:rating': b'100%'}\n",
      "b'www.test4.com' {b'cf2:date': b'2017-03-09', b'cf2:name': b'xiebing'}\n",
      "b'www.test5.com' {b'cf1:price': b'999', b'cf2:length': b'34', b'cf2:title': b'Hello Python', b'cf3:code': b'A43'}\n"
     ]
    }
   ],
   "source": [
    "for key,value in table.scan(row_stop='www.test6.com'):\n",
    "    print(key,value)"
   ]
  },
  {
   "cell_type": "code",
   "execution_count": 218,
   "metadata": {},
   "outputs": [
    {
     "name": "stdout",
     "output_type": "stream",
     "text": [
      "b'www.test3.com' {b'cf1:content': b'\\xe8\\x80\\x90\\xe5\\x85\\x8b', b'cf1:price': b'988', b'cf1:rating': b'100%'}\n",
      "b'www.test4.com' {b'cf2:date': b'2017-03-09', b'cf2:name': b'xiebing'}\n",
      "b'www.test5.com' {b'cf1:price': b'999', b'cf2:length': b'34', b'cf2:title': b'Hello Python', b'cf3:code': b'A43'}\n"
     ]
    }
   ],
   "source": [
    "for key,value in table.scan(row_start='www.test3.com',row_stop='www.test6'):\n",
    "    print(key,value)"
   ]
  },
  {
   "cell_type": "markdown",
   "metadata": {},
   "source": [
    "查询表格数据"
   ]
  },
  {
   "cell_type": "code",
   "execution_count": 225,
   "metadata": {},
   "outputs": [
    {
     "name": "stdout",
     "output_type": "stream",
     "text": [
      "{b'cf2:date': b'2017-03-09', b'cf2:name': b'xiebing'}\n"
     ]
    }
   ],
   "source": [
    "row = table.row('www.test4.com')\n",
    "print(row)"
   ]
  },
  {
   "cell_type": "code",
   "execution_count": 233,
   "metadata": {},
   "outputs": [
    {
     "name": "stdout",
     "output_type": "stream",
     "text": [
      "{b'cf1:price': b'88', b'cf1:rating': b'99%'}\n",
      "b'88'\n"
     ]
    }
   ],
   "source": [
    "row = table.row('www.test2.com',columns=['cf1:price','cf1:rating'])\n",
    "print(row)\n",
    "print(row[b'cf1:price'])"
   ]
  },
  {
   "cell_type": "code",
   "execution_count": 235,
   "metadata": {},
   "outputs": [
    {
     "name": "stdout",
     "output_type": "stream",
     "text": [
      "{b'cf1:price': (b'88', 1504677372609), b'cf1:rating': (b'99%', 1504677372609)}\n"
     ]
    }
   ],
   "source": [
    "row = table.row('www.test2.com',columns=['cf1:price','cf1:rating'],include_timestamp=True)\n",
    "print(row)"
   ]
  },
  {
   "cell_type": "code",
   "execution_count": 236,
   "metadata": {},
   "outputs": [
    {
     "name": "stdout",
     "output_type": "stream",
     "text": [
      "[b'88', b'88', b'88', b'88', b'88', b'88', b'88']\n"
     ]
    }
   ],
   "source": [
    "cells = table.cells(b'www.test2.com',column='cf1:price')\n",
    "print(cells)"
   ]
  },
  {
   "cell_type": "code",
   "execution_count": 237,
   "metadata": {},
   "outputs": [
    {
     "name": "stdout",
     "output_type": "stream",
     "text": [
      "[b'88', b'88', b'88']\n"
     ]
    }
   ],
   "source": [
    "cells = table.cells(b'www.test2.com',column='cf1:price',versions=3)\n",
    "print(cells)"
   ]
  },
  {
   "cell_type": "markdown",
   "metadata": {},
   "source": [
    "删除表格数据"
   ]
  },
  {
   "cell_type": "code",
   "execution_count": 238,
   "metadata": {
    "collapsed": true
   },
   "outputs": [],
   "source": [
    "table.delete('www.test4.com')"
   ]
  },
  {
   "cell_type": "code",
   "execution_count": 239,
   "metadata": {
    "collapsed": true
   },
   "outputs": [],
   "source": [
    "table.delete('www.test2.com',columns=['cf1'])"
   ]
  },
  {
   "cell_type": "code",
   "execution_count": 240,
   "metadata": {
    "collapsed": true
   },
   "outputs": [],
   "source": [
    "table.delete('www.test2.com',columns=['cf1:name','cf1:price'])"
   ]
  },
  {
   "cell_type": "markdown",
   "metadata": {},
   "source": [
    "连接池"
   ]
  },
  {
   "cell_type": "code",
   "execution_count": 247,
   "metadata": {},
   "outputs": [],
   "source": [
    "pool = happybase.ConnectionPool(size=3,host= '192.168.1.254',table_prefix='myproject')"
   ]
  },
  {
   "cell_type": "code",
   "execution_count": 248,
   "metadata": {},
   "outputs": [
    {
     "name": "stdout",
     "output_type": "stream",
     "text": [
      "[b'mytable']\n"
     ]
    }
   ],
   "source": [
    "with pool.connection() as conn:\n",
    "    print(conn.tables())"
   ]
  }
 ],
 "metadata": {
  "kernelspec": {
   "display_name": "Python 3",
   "language": "python",
   "name": "python3"
  },
  "language_info": {
   "codemirror_mode": {
    "name": "ipython",
    "version": 3
   },
   "file_extension": ".py",
   "mimetype": "text/x-python",
   "name": "python",
   "nbconvert_exporter": "python",
   "pygments_lexer": "ipython3",
   "version": "3.6.1"
  }
 },
 "nbformat": 4,
 "nbformat_minor": 2
}
