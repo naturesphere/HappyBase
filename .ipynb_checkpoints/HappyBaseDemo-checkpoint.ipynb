{
 "cells": [
  {
   "cell_type": "markdown",
   "metadata": {},
   "source": [
    "# 用python操作HBase\n"
   ]
  },
  {
   "cell_type": "markdown",
   "metadata": {},
   "source": [
    "使用happybase包来实现用python操作hbase\n",
    "\n",
    "happybase主页：http://happybase.readthedocs.io/en/latest/user.html\n",
    "\n",
    "安装:\n",
    "pip install thrift happybase\n",
    "\n",
    "验证： python -c \"import happybase\"\n",
    "\n",
    "如果没有错误则安装成功 如果遇到thriftPy does not support generating module with path in protocol 'c'问题\n",
    "\n",
    "请参考： http://blog.csdn.net/sinolover/article/details/77714648\n",
    "\n",
    "hbase表结构参考：http://blog.csdn.net/cnbird2008/article/details/9151585\n",
    "\n",
    "外网访问时，host=112.17.80.185，port=8000\n",
    "即用代码：conn = happybase.Connection('112.17.80.185',port=8000)连接"
   ]
  },
  {
   "cell_type": "code",
   "execution_count": 89,
   "metadata": {
    "collapsed": true
   },
   "outputs": [],
   "source": [
    "import happybase"
   ]
  },
  {
   "cell_type": "code",
   "execution_count": 90,
   "metadata": {
    "collapsed": true
   },
   "outputs": [],
   "source": [
    "host = '192.168.1.250'"
   ]
  },
  {
   "cell_type": "markdown",
   "metadata": {},
   "source": [
    "# 建立连接，1分钟之内无交互服务端会自动断开连接"
   ]
  },
  {
   "cell_type": "code",
   "execution_count": 91,
   "metadata": {
    "collapsed": true
   },
   "outputs": [],
   "source": [
    "conn = happybase.Connection(host)"
   ]
  },
  {
   "cell_type": "markdown",
   "metadata": {},
   "source": [
    "# 创建表格"
   ]
  },
  {
   "cell_type": "code",
   "execution_count": 95,
   "metadata": {
    "collapsed": true
   },
   "outputs": [],
   "source": [
    "conn.disable_table('mytable')"
   ]
  },
  {
   "cell_type": "code",
   "execution_count": 96,
   "metadata": {
    "collapsed": true
   },
   "outputs": [],
   "source": [
    "conn.delete_table('mytable')"
   ]
  },
  {
   "cell_type": "code",
   "execution_count": 97,
   "metadata": {
    "collapsed": true,
    "scrolled": true
   },
   "outputs": [],
   "source": [
    "conn.create_table('mytable',{'cf1':dict(max_versions=10),\n",
    "                            'cf2':dict(max_versions=1,block_cache_enabled=False),\n",
    "                            'cf3':dict(),})"
   ]
  },
  {
   "cell_type": "code",
   "execution_count": 98,
   "metadata": {
    "collapsed": true
   },
   "outputs": [],
   "source": [
    "table=conn.table('mytable')"
   ]
  },
  {
   "cell_type": "code",
   "execution_count": 99,
   "metadata": {},
   "outputs": [
    {
     "name": "stdout",
     "output_type": "stream",
     "text": [
      "[b'emp', b'myproject_mytable', b'mytable']\n"
     ]
    }
   ],
   "source": [
    "print(conn.tables())"
   ]
  },
  {
   "cell_type": "markdown",
   "metadata": {},
   "source": [
    "## 为了防止取同名的表造成名字冲突，可以赋值给table_prefix,生成的表名为prefix_tablename"
   ]
  },
  {
   "cell_type": "code",
   "execution_count": 100,
   "metadata": {},
   "outputs": [
    {
     "name": "stdout",
     "output_type": "stream",
     "text": [
      "[b'emp', b'myproject_mytable', b'mytable']\n"
     ]
    }
   ],
   "source": [
    "print(conn.tables())"
   ]
  },
  {
   "cell_type": "code",
   "execution_count": 101,
   "metadata": {
    "collapsed": true
   },
   "outputs": [],
   "source": [
    "conn = happybase.Connection(host,table_prefix='myproject')"
   ]
  },
  {
   "cell_type": "code",
   "execution_count": 102,
   "metadata": {},
   "outputs": [
    {
     "name": "stdout",
     "output_type": "stream",
     "text": [
      "[b'mytable']\n"
     ]
    }
   ],
   "source": [
    "print(conn.tables())"
   ]
  },
  {
   "cell_type": "code",
   "execution_count": 107,
   "metadata": {
    "collapsed": true
   },
   "outputs": [],
   "source": [
    "#conn.disable_table('mytable')"
   ]
  },
  {
   "cell_type": "code",
   "execution_count": 108,
   "metadata": {
    "collapsed": true
   },
   "outputs": [],
   "source": [
    "#conn.delete_table('mytable')#conn.is_table_enabled('mytable') "
   ]
  },
  {
   "cell_type": "code",
   "execution_count": 105,
   "metadata": {
    "collapsed": true
   },
   "outputs": [],
   "source": [
    "conn.create_table('mytable',{'cf1':dict(),})"
   ]
  },
  {
   "cell_type": "code",
   "execution_count": 106,
   "metadata": {},
   "outputs": [
    {
     "name": "stdout",
     "output_type": "stream",
     "text": [
      "[b'mytable']\n"
     ]
    }
   ],
   "source": [
    "print(conn.tables())"
   ]
  },
  {
   "cell_type": "markdown",
   "metadata": {},
   "source": [
    "# 向表格添加数据"
   ]
  },
  {
   "cell_type": "code",
   "execution_count": 109,
   "metadata": {
    "collapsed": true
   },
   "outputs": [],
   "source": [
    "cloth_data = {'cf1:content':u'牛仔裤', 'cf1:price':'299', 'cf1:rating':'98%'}\n",
    "hat_data = {'cf1:content':u'鸭舌帽', 'cf1:price':'88', 'cf1:rating':'99%'}\n",
    "shoe_data = {'cf1:content':u'耐克', 'cf1:price':'988', 'cf1:rating':'100%'}\n",
    "author_data = {'cf2:name':u'xiebing','cf2:date':'2017-03-09'}\n",
    "\n",
    "table.put(row='www.test1.com',data=cloth_data)\n",
    "table.put(row='www.test2.com',data=hat_data)\n",
    "table.put(row='www.test3.com',data=shoe_data)\n",
    "table.put(row='www.test4.com',data=author_data)"
   ]
  },
  {
   "cell_type": "markdown",
   "metadata": {},
   "source": [
    "## 以批处理的方式向表格添加数据，数据会先缓存在内存中，到了batch_size的阈值在写入hbase,效率更高，而且能夹杂删除操作\n"
   ]
  },
  {
   "cell_type": "code",
   "execution_count": 110,
   "metadata": {
    "collapsed": true
   },
   "outputs": [],
   "source": [
    "with table.batch(batch_size=10) as bat:\n",
    "    bat.put('www.test5.com',{'cf1:price':'999','cf2:title':'Hello Python','cf2:length':'34','cf3:code':'A43'})\n",
    "    bat.put('www.test6.com',{'cf1:content':u'剃须刀','cf1:price':'168','cf1:rating':'97%'})\n",
    "    bat.put('www.test7.com',{'cf3:function':'print'})\n",
    "    bat.delete('www.test1.com')"
   ]
  },
  {
   "cell_type": "markdown",
   "metadata": {},
   "source": [
    "# 扫描表格"
   ]
  },
  {
   "cell_type": "code",
   "execution_count": 111,
   "metadata": {},
   "outputs": [
    {
     "name": "stdout",
     "output_type": "stream",
     "text": [
      "b'www.test2.com' {b'cf1:content': b'\\xe9\\xb8\\xad\\xe8\\x88\\x8c\\xe5\\xb8\\xbd', b'cf1:price': b'88', b'cf1:rating': b'99%'}\n",
      "b'www.test3.com' {b'cf1:content': b'\\xe8\\x80\\x90\\xe5\\x85\\x8b', b'cf1:price': b'988', b'cf1:rating': b'100%'}\n",
      "b'www.test4.com' {b'cf2:date': b'2017-03-09', b'cf2:name': b'xiebing'}\n",
      "b'www.test5.com' {b'cf1:price': b'999', b'cf2:length': b'34', b'cf2:title': b'Hello Python', b'cf3:code': b'A43'}\n",
      "b'www.test6.com' {b'cf1:content': b'\\xe5\\x89\\x83\\xe9\\xa1\\xbb\\xe5\\x88\\x80', b'cf1:price': b'168', b'cf1:rating': b'97%'}\n",
      "b'www.test7.com' {b'cf3:function': b'print'}\n"
     ]
    }
   ],
   "source": [
    "for key,value in table.scan():\n",
    "    print(key,value)"
   ]
  },
  {
   "cell_type": "markdown",
   "metadata": {},
   "source": [
    "# 定义起止位置扫描表格"
   ]
  },
  {
   "cell_type": "code",
   "execution_count": 112,
   "metadata": {},
   "outputs": [
    {
     "name": "stdout",
     "output_type": "stream",
     "text": [
      "b'www.test3.com' {b'cf1:content': b'\\xe8\\x80\\x90\\xe5\\x85\\x8b', b'cf1:price': b'988', b'cf1:rating': b'100%'}\n",
      "b'www.test4.com' {b'cf2:date': b'2017-03-09', b'cf2:name': b'xiebing'}\n",
      "b'www.test5.com' {b'cf1:price': b'999', b'cf2:length': b'34', b'cf2:title': b'Hello Python', b'cf3:code': b'A43'}\n",
      "b'www.test6.com' {b'cf1:content': b'\\xe5\\x89\\x83\\xe9\\xa1\\xbb\\xe5\\x88\\x80', b'cf1:price': b'168', b'cf1:rating': b'97%'}\n",
      "b'www.test7.com' {b'cf3:function': b'print'}\n"
     ]
    }
   ],
   "source": [
    "for key,value in table.scan(row_start='www.test3.com'):\n",
    "    print(key,value)"
   ]
  },
  {
   "cell_type": "code",
   "execution_count": 113,
   "metadata": {},
   "outputs": [
    {
     "name": "stdout",
     "output_type": "stream",
     "text": [
      "b'www.test2.com' {b'cf1:content': b'\\xe9\\xb8\\xad\\xe8\\x88\\x8c\\xe5\\xb8\\xbd', b'cf1:price': b'88', b'cf1:rating': b'99%'}\n",
      "b'www.test3.com' {b'cf1:content': b'\\xe8\\x80\\x90\\xe5\\x85\\x8b', b'cf1:price': b'988', b'cf1:rating': b'100%'}\n",
      "b'www.test4.com' {b'cf2:date': b'2017-03-09', b'cf2:name': b'xiebing'}\n",
      "b'www.test5.com' {b'cf1:price': b'999', b'cf2:length': b'34', b'cf2:title': b'Hello Python', b'cf3:code': b'A43'}\n"
     ]
    }
   ],
   "source": [
    "for key,value in table.scan(row_stop='www.test6.com'):\n",
    "    print(key,value)"
   ]
  },
  {
   "cell_type": "code",
   "execution_count": 114,
   "metadata": {},
   "outputs": [
    {
     "name": "stdout",
     "output_type": "stream",
     "text": [
      "b'www.test3.com' {b'cf1:content': b'\\xe8\\x80\\x90\\xe5\\x85\\x8b', b'cf1:price': b'988', b'cf1:rating': b'100%'}\n",
      "b'www.test4.com' {b'cf2:date': b'2017-03-09', b'cf2:name': b'xiebing'}\n",
      "b'www.test5.com' {b'cf1:price': b'999', b'cf2:length': b'34', b'cf2:title': b'Hello Python', b'cf3:code': b'A43'}\n"
     ]
    }
   ],
   "source": [
    "for key,value in table.scan(row_start='www.test3.com',row_stop='www.test6'):\n",
    "    print(key,value)"
   ]
  },
  {
   "cell_type": "markdown",
   "metadata": {},
   "source": [
    "# 查询表格数据"
   ]
  },
  {
   "cell_type": "code",
   "execution_count": 115,
   "metadata": {},
   "outputs": [
    {
     "name": "stdout",
     "output_type": "stream",
     "text": [
      "{b'cf2:date': b'2017-03-09', b'cf2:name': b'xiebing'}\n"
     ]
    }
   ],
   "source": [
    "row = table.row('www.test4.com')\n",
    "print(row)"
   ]
  },
  {
   "cell_type": "code",
   "execution_count": 116,
   "metadata": {},
   "outputs": [
    {
     "name": "stdout",
     "output_type": "stream",
     "text": [
      "{b'cf1:price': b'88', b'cf1:rating': b'99%'}\n",
      "b'88'\n"
     ]
    }
   ],
   "source": [
    "row = table.row('www.test2.com',columns=['cf1:price','cf1:rating'])\n",
    "print(row)\n",
    "print(row[b'cf1:price'])"
   ]
  },
  {
   "cell_type": "code",
   "execution_count": 117,
   "metadata": {},
   "outputs": [
    {
     "name": "stdout",
     "output_type": "stream",
     "text": [
      "{b'cf1:price': (b'88', 1511267787213), b'cf1:rating': (b'99%', 1511267787213)}\n"
     ]
    }
   ],
   "source": [
    "row = table.row('www.test2.com',columns=['cf1:price','cf1:rating'],include_timestamp=True)\n",
    "print(row)"
   ]
  },
  {
   "cell_type": "code",
   "execution_count": 118,
   "metadata": {},
   "outputs": [
    {
     "name": "stdout",
     "output_type": "stream",
     "text": [
      "[b'88']\n"
     ]
    }
   ],
   "source": [
    "cells = table.cells(b'www.test2.com',column='cf1:price')\n",
    "print(cells)"
   ]
  },
  {
   "cell_type": "code",
   "execution_count": 119,
   "metadata": {},
   "outputs": [
    {
     "name": "stdout",
     "output_type": "stream",
     "text": [
      "[b'88']\n"
     ]
    }
   ],
   "source": [
    "cells = table.cells(b'www.test2.com',column='cf1:price',versions=3)\n",
    "print(cells)"
   ]
  },
  {
   "cell_type": "markdown",
   "metadata": {},
   "source": [
    "# 删除表格数据"
   ]
  },
  {
   "cell_type": "code",
   "execution_count": 120,
   "metadata": {
    "collapsed": true
   },
   "outputs": [],
   "source": [
    "table.delete('www.test4.com')"
   ]
  },
  {
   "cell_type": "code",
   "execution_count": 121,
   "metadata": {
    "collapsed": true
   },
   "outputs": [],
   "source": [
    "table.delete('www.test2.com',columns=['cf1'])"
   ]
  },
  {
   "cell_type": "code",
   "execution_count": 122,
   "metadata": {
    "collapsed": true
   },
   "outputs": [],
   "source": [
    "table.delete('www.test2.com',columns=['cf1:name','cf1:price'])"
   ]
  },
  {
   "cell_type": "markdown",
   "metadata": {},
   "source": [
    "# 连接池"
   ]
  },
  {
   "cell_type": "code",
   "execution_count": 123,
   "metadata": {
    "collapsed": true
   },
   "outputs": [],
   "source": [
    "pool = happybase.ConnectionPool(size=3,host= host,table_prefix='myproject')"
   ]
  },
  {
   "cell_type": "code",
   "execution_count": 124,
   "metadata": {},
   "outputs": [
    {
     "name": "stdout",
     "output_type": "stream",
     "text": [
      "[b'mytable']\n"
     ]
    }
   ],
   "source": [
    "with pool.connection() as conn:\n",
    "    print(conn.tables())"
   ]
  }
 ],
 "metadata": {
  "kernelspec": {
   "display_name": "Python 3",
   "language": "python",
   "name": "python3"
  },
  "language_info": {
   "codemirror_mode": {
    "name": "ipython",
    "version": 3
   },
   "file_extension": ".py",
   "mimetype": "text/x-python",
   "name": "python",
   "nbconvert_exporter": "python",
   "pygments_lexer": "ipython3",
   "version": "3.6.1"
  }
 },
 "nbformat": 4,
 "nbformat_minor": 2
}
