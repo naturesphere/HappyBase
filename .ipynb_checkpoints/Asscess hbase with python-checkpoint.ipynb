{
 "cells": [
  {
   "cell_type": "markdown",
   "metadata": {},
   "source": [
    "# 用python操作hbase\n",
    "\n",
    "使用happybase包来实现用python操作hbase\n",
    "\n",
    "happybase主页：http://happybase.readthedocs.io/en/latest/user.html"
   ]
  },
  {
   "cell_type": "markdown",
   "metadata": {},
   "source": [
    "## step1 安装 happybase"
   ]
  },
  {
   "attachments": {},
   "cell_type": "markdown",
   "metadata": {},
   "source": [
    "安装:\n",
    "    pip install happybase\n",
    "\n",
    "验证：\n",
    "    python -c \"import happybase\"\n",
    "\n",
    "如果没有错误则安装成功\n",
    "如果遇到thriftPy does not support generating module with path in protocol 'c'请参考：\n",
    "http://blog.csdn.net/sinolover/article/details/77714648\n"
   ]
  },
  {
   "cell_type": "markdown",
   "metadata": {},
   "source": [
    "## step2 使用 happybase"
   ]
  },
  {
   "cell_type": "code",
   "execution_count": 2,
   "metadata": {
    "collapsed": true
   },
   "outputs": [],
   "source": [
    "import happybase"
   ]
  },
  {
   "cell_type": "markdown",
   "metadata": {},
   "source": [
    "1 建立连接"
   ]
  },
  {
   "cell_type": "code",
   "execution_count": 5,
   "metadata": {
    "collapsed": true
   },
   "outputs": [],
   "source": [
    "hbase_host = '192.168.1.254'"
   ]
  },
  {
   "cell_type": "markdown",
   "metadata": {},
   "source": [
    "1.1 普通连接 \n",
    "连接如果持续1分钟没有交互的话hbase服务端会自动断开"
   ]
  },
  {
   "cell_type": "code",
   "execution_count": 13,
   "metadata": {},
   "outputs": [],
   "source": [
    "conn = happybase.Connection(hbase_host)"
   ]
  },
  {
   "cell_type": "code",
   "execution_count": 14,
   "metadata": {},
   "outputs": [
    {
     "name": "stdout",
     "output_type": "stream",
     "text": [
      "[b'myproject_mytable', b'mytable', b'test']\n"
     ]
    }
   ],
   "source": [
    "# 打印表格，验证连接是否成功\n",
    "print(conn.tables())"
   ]
  },
  {
   "cell_type": "markdown",
   "metadata": {},
   "source": [
    "1.2 连接池"
   ]
  },
  {
   "cell_type": "code",
   "execution_count": 10,
   "metadata": {},
   "outputs": [
    {
     "name": "stdout",
     "output_type": "stream",
     "text": [
      "[b'myproject_mytable', b'mytable', b'test']\n"
     ]
    }
   ],
   "source": [
    "pool = happybase.ConnectionPool(size=3,host=hbase_host)\n",
    "with pool.connection() as conn:\n",
    "    print(conn.tables())"
   ]
  },
  {
   "cell_type": "markdown",
   "metadata": {},
   "source": [
    "2 操作表\n",
    "  创建表"
   ]
  },
  {
   "cell_type": "code",
   "execution_count": 41,
   "metadata": {},
   "outputs": [
    {
     "name": "stdout",
     "output_type": "stream",
     "text": [
      "[b'myproject_mytable', b'mytable', b'test']\n",
      "[b'myproject_mytable', b'mytable', b'test']\n"
     ]
    }
   ],
   "source": [
    "pool = happybase.ConnectionPool(size=3,host=hbase_host)\n",
    "with pool.connection() as conn:\n",
    "    print(conn.tables())\n",
    "    conn.create_table('mytable',\n",
    "                     {\n",
    "                         'cf1':dict(max_versions=10),\n",
    "                         'cf2': dict(max_versions=1, block_cache_enabled=False),\n",
    "                         'cf3': dict(),\n",
    "                     })\n",
    "    print(conn.tables())"
   ]
  },
  {
   "cell_type": "markdown",
   "metadata": {},
   "source": [
    "当多个用户建立表，正好有相同名字的表时将发生冲突，使用namespace可以解决表名冲突的问题，在连接时赋予table_prefix相应的namespace,此时创建的表面为namespace_tablename"
   ]
  },
  {
   "cell_type": "code",
   "execution_count": 42,
   "metadata": {},
   "outputs": [
    {
     "name": "stdout",
     "output_type": "stream",
     "text": [
      "[b'mytable']\n",
      "[b'mytable']\n"
     ]
    }
   ],
   "source": [
    "pool = happybase.ConnectionPool(size=3,host=hbase_host,table_prefix='myproject')\n",
    "with pool.connection() as conn:\n",
    "    print(conn.tables())\n",
    "    conn.create_table('mytable',\n",
    "                     {\n",
    "                         'cf1':dict(max_versions=10),\n",
    "                         'cf2': dict(max_versions=1, block_cache_enabled=False),\n",
    "                         'cf3': dict(),\n",
    "                     })\n",
    "    print(conn.tables())"
   ]
  },
  {
   "cell_type": "markdown",
   "metadata": {},
   "source": [
    "3 操作数据"
   ]
  },
  {
   "cell_type": "code",
   "execution_count": 44,
   "metadata": {
    "collapsed": true
   },
   "outputs": [],
   "source": [
    "#   此处接着上面的with下来，因此开头有退格\n",
    "    table = conn.table('mytable')\n",
    "    table.put(b'row-key',{})"
   ]
  },
  {
   "cell_type": "code",
   "execution_count": null,
   "metadata": {
    "collapsed": true
   },
   "outputs": [],
   "source": [
    "3.1 存储数据\n",
    "3.2 批处理数据\n",
    "3.3 使用自动计数器\n",
    "3.4 查询数据\n",
    "3.5 扫描表\n",
    "3.6 删除数据"
   ]
  }
 ],
 "metadata": {
  "kernelspec": {
   "display_name": "Python 3",
   "language": "python",
   "name": "python3"
  },
  "language_info": {
   "codemirror_mode": {
    "name": "ipython",
    "version": 3
   },
   "file_extension": ".py",
   "mimetype": "text/x-python",
   "name": "python",
   "nbconvert_exporter": "python",
   "pygments_lexer": "ipython3",
   "version": "3.6.1"
  }
 },
 "nbformat": 4,
 "nbformat_minor": 2
}
